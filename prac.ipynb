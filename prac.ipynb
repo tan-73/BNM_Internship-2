{
 "cells": [
  {
   "cell_type": "code",
   "execution_count": null,
   "id": "4589ec00",
   "metadata": {},
   "outputs": [],
   "source": [
    "def combines_loss (alpha = 0.5) : \n",
    "    def loss (y_true, y_pred) : \n",
    "        mse = tf.keras.losses.mean_squared_error(y_true, y_pred) \n",
    "        mae = tf.keras.losses.mean_absolute_error(y_true, y_pred)\n",
    "        return alpha * mse + (1 - alpha) * mae\n",
    "    return loss\n",
    "\n",
    "model = tf.keras.Sequential([\n",
    "    tf.keras.layers.Dense(10, activation = 'relu', input_shape = (8, )),\n",
    "    tf.keras.layers.Dense(1)\n",
    "])\n",
    "model.compile(optimizer = 'adam', loss = combined_loss(0.7))"
   ]
  }
 ],
 "metadata": {
  "kernelspec": {
   "display_name": "Python 3",
   "language": "python",
   "name": "python3"
  },
  "language_info": {
   "codemirror_mode": {
    "name": "ipython",
    "version": 3
   },
   "file_extension": ".py",
   "mimetype": "text/x-python",
   "name": "python",
   "nbconvert_exporter": "python",
   "pygments_lexer": "ipython3",
   "version": "3.9.13"
  }
 },
 "nbformat": 4,
 "nbformat_minor": 5
}
