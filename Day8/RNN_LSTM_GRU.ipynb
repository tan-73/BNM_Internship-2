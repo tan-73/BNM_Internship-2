{
  "nbformat": 4,
  "nbformat_minor": 0,
  "metadata": {
    "colab": {
      "provenance": [],
      "gpuType": "T4"
    },
    "kernelspec": {
      "name": "python3",
      "display_name": "Python 3"
    },
    "language_info": {
      "name": "python"
    },
    "accelerator": "GPU"
  },
  "cells": [
    {
      "cell_type": "code",
      "source": [
        "import numpy as np\n",
        "import tensorflow as tf\n",
        "from tensorflow.keras.models import Sequential\n",
        "from tensorflow.keras.layers import Embedding, SimpleRNN, LSTM, GRU, Dense\n",
        "from tensorflow.keras.preprocessing.sequence import pad_sequences\n",
        "from sklearn.model_selection import train_test_split\n",
        "import matplotlib.pyplot as plt\n",
        "import random"
      ],
      "metadata": {
        "id": "QdvYYdJqw-YA"
      },
      "execution_count": 8,
      "outputs": []
    },
    {
      "cell_type": "code",
      "source": [
        "def generate_balanced_sequence(length):\n",
        "    seq = []\n",
        "    for _ in range(length // 2):\n",
        "        seq.append('(')\n",
        "    for _ in range(length // 2):\n",
        "        seq.append(')')\n",
        "    return ''.join(seq)\n",
        "\n",
        "def generate_unbalanced_sequence(length):\n",
        "    seq = [random.choice(['(', ')']) for _ in range(length)]\n",
        "    if seq.count('(') == seq.count(')'):\n",
        "        seq[-1] = '('\n",
        "    return ''.join(seq)"
      ],
      "metadata": {
        "id": "vC9bi5gKynlq"
      },
      "execution_count": 9,
      "outputs": []
    },
    {
      "cell_type": "code",
      "source": [
        "def generate_dataset(n_samples=30000, maxlen=30):\n",
        "    X, y = [], []\n",
        "    for _ in range(n_samples // 2):\n",
        "        s = generate_balanced_sequence(random.choice(range(6, maxlen, 2)))\n",
        "        X.append(s)\n",
        "        y.append(1)\n",
        "    for _ in range(n_samples // 2):\n",
        "        s = generate_unbalanced_sequence(random.randint(6, maxlen))\n",
        "        X.append(s)\n",
        "        y.append(0)\n",
        "    return X, y\n",
        "\n",
        "X_text, y = generate_dataset()"
      ],
      "metadata": {
        "id": "QhTkB5Dayqjt"
      },
      "execution_count": 10,
      "outputs": []
    },
    {
      "cell_type": "code",
      "source": [
        "char_to_int = {'(': 1, ')': 2}\n",
        "X_seq = [[char_to_int[c] for c in seq] for seq in X_text]\n",
        "max_seq_len = max(len(x) for x in X_seq)\n",
        "X_pad = pad_sequences(X_seq, maxlen=max_seq_len, padding='post')\n",
        "X_train, X_test, y_train, y_test = train_test_split(X_pad, y, test_size=0.2, random_state=42, stratify=y)\n"
      ],
      "metadata": {
        "id": "NGeFY0Bhys21"
      },
      "execution_count": 11,
      "outputs": []
    },
    {
      "cell_type": "code",
      "source": [
        "def build_model(cell_type='LSTM'):\n",
        "    model = Sequential()\n",
        "    model.add(Embedding(input_dim=3, output_dim=16, input_length=max_seq_len))\n",
        "    if cell_type == 'RNN':\n",
        "        model.add(SimpleRNN(32))\n",
        "    elif cell_type == 'GRU':\n",
        "        model.add(GRU(32))\n",
        "    else:\n",
        "        model.add(LSTM(32))\n",
        "    model.add(Dense(1, activation='sigmoid'))\n",
        "    model.compile(loss='binary_crossentropy', optimizer='adam', metrics=['accuracy'])\n",
        "    return model"
      ],
      "metadata": {
        "id": "C9s-mbVRyyZC"
      },
      "execution_count": 12,
      "outputs": []
    },
    {
      "cell_type": "code",
      "source": [
        "results = {}\n",
        "models = {}\n",
        "\n",
        "for cell in ['RNN', 'LSTM', 'GRU']:\n",
        "    print(f\"\\nTraining {cell} model...\")\n",
        "    model = build_model(cell)\n",
        "    history = model.fit(\n",
        "        X_train, np.array(y_train),\n",
        "        validation_split=0.2,\n",
        "        epochs=5,\n",
        "        batch_size=64,\n",
        "        verbose=1\n",
        "    )\n",
        "    score = model.evaluate(X_test, np.array(y_test), verbose=0)\n",
        "    print(f\"{cell} Test Accuracy: {score[1]*100:.2f}%\")\n",
        "    results[cell] = history\n",
        "    models[cell] = model"
      ],
      "metadata": {
        "colab": {
          "base_uri": "https://localhost:8080/"
        },
        "id": "mKWioe3nyzym",
        "outputId": "b450edf3-66ea-42b5-d62e-ef4f2ea83dde"
      },
      "execution_count": 13,
      "outputs": [
        {
          "output_type": "stream",
          "name": "stdout",
          "text": [
            "\n",
            "Training RNN model...\n"
          ]
        },
        {
          "output_type": "stream",
          "name": "stderr",
          "text": [
            "/usr/local/lib/python3.11/dist-packages/keras/src/layers/core/embedding.py:90: UserWarning: Argument `input_length` is deprecated. Just remove it.\n",
            "  warnings.warn(\n"
          ]
        },
        {
          "output_type": "stream",
          "name": "stdout",
          "text": [
            "Epoch 1/5\n",
            "\u001b[1m300/300\u001b[0m \u001b[32m━━━━━━━━━━━━━━━━━━━━\u001b[0m\u001b[37m\u001b[0m \u001b[1m6s\u001b[0m 9ms/step - accuracy: 0.9152 - loss: 0.2766 - val_accuracy: 0.9767 - val_loss: 0.0894\n",
            "Epoch 2/5\n",
            "\u001b[1m300/300\u001b[0m \u001b[32m━━━━━━━━━━━━━━━━━━━━\u001b[0m\u001b[37m\u001b[0m \u001b[1m5s\u001b[0m 8ms/step - accuracy: 0.9758 - loss: 0.0968 - val_accuracy: 0.9752 - val_loss: 0.1149\n",
            "Epoch 3/5\n",
            "\u001b[1m300/300\u001b[0m \u001b[32m━━━━━━━━━━━━━━━━━━━━\u001b[0m\u001b[37m\u001b[0m \u001b[1m3s\u001b[0m 11ms/step - accuracy: 0.9693 - loss: 0.1093 - val_accuracy: 0.9910 - val_loss: 0.0405\n",
            "Epoch 4/5\n",
            "\u001b[1m300/300\u001b[0m \u001b[32m━━━━━━━━━━━━━━━━━━━━\u001b[0m\u001b[37m\u001b[0m \u001b[1m3s\u001b[0m 10ms/step - accuracy: 0.8348 - loss: 0.3765 - val_accuracy: 0.9800 - val_loss: 0.0760\n",
            "Epoch 5/5\n",
            "\u001b[1m300/300\u001b[0m \u001b[32m━━━━━━━━━━━━━━━━━━━━\u001b[0m\u001b[37m\u001b[0m \u001b[1m4s\u001b[0m 8ms/step - accuracy: 0.9846 - loss: 0.0588 - val_accuracy: 0.9925 - val_loss: 0.0241\n",
            "RNN Test Accuracy: 99.32%\n",
            "\n",
            "Training LSTM model...\n",
            "Epoch 1/5\n",
            "\u001b[1m300/300\u001b[0m \u001b[32m━━━━━━━━━━━━━━━━━━━━\u001b[0m\u001b[37m\u001b[0m \u001b[1m8s\u001b[0m 19ms/step - accuracy: 0.8288 - loss: 0.3384 - val_accuracy: 0.9956 - val_loss: 0.0195\n",
            "Epoch 2/5\n",
            "\u001b[1m300/300\u001b[0m \u001b[32m━━━━━━━━━━━━━━━━━━━━\u001b[0m\u001b[37m\u001b[0m \u001b[1m4s\u001b[0m 12ms/step - accuracy: 0.9987 - loss: 0.0104 - val_accuracy: 0.9981 - val_loss: 0.0096\n",
            "Epoch 3/5\n",
            "\u001b[1m300/300\u001b[0m \u001b[32m━━━━━━━━━━━━━━━━━━━━\u001b[0m\u001b[37m\u001b[0m \u001b[1m5s\u001b[0m 13ms/step - accuracy: 0.9981 - loss: 0.0093 - val_accuracy: 0.9975 - val_loss: 0.0109\n",
            "Epoch 4/5\n",
            "\u001b[1m300/300\u001b[0m \u001b[32m━━━━━━━━━━━━━━━━━━━━\u001b[0m\u001b[37m\u001b[0m \u001b[1m6s\u001b[0m 16ms/step - accuracy: 0.9982 - loss: 0.0074 - val_accuracy: 0.9987 - val_loss: 0.0057\n",
            "Epoch 5/5\n",
            "\u001b[1m300/300\u001b[0m \u001b[32m━━━━━━━━━━━━━━━━━━━━\u001b[0m\u001b[37m\u001b[0m \u001b[1m4s\u001b[0m 12ms/step - accuracy: 0.9996 - loss: 0.0033 - val_accuracy: 0.9990 - val_loss: 0.0061\n",
            "LSTM Test Accuracy: 99.92%\n",
            "\n",
            "Training GRU model...\n",
            "Epoch 1/5\n",
            "\u001b[1m300/300\u001b[0m \u001b[32m━━━━━━━━━━━━━━━━━━━━\u001b[0m\u001b[37m\u001b[0m \u001b[1m9s\u001b[0m 20ms/step - accuracy: 0.7890 - loss: 0.3982 - val_accuracy: 0.9875 - val_loss: 0.0524\n",
            "Epoch 2/5\n",
            "\u001b[1m300/300\u001b[0m \u001b[32m━━━━━━━━━━━━━━━━━━━━\u001b[0m\u001b[37m\u001b[0m \u001b[1m4s\u001b[0m 15ms/step - accuracy: 0.9889 - loss: 0.0401 - val_accuracy: 0.9969 - val_loss: 0.0193\n",
            "Epoch 3/5\n",
            "\u001b[1m300/300\u001b[0m \u001b[32m━━━━━━━━━━━━━━━━━━━━\u001b[0m\u001b[37m\u001b[0m \u001b[1m5s\u001b[0m 16ms/step - accuracy: 0.9976 - loss: 0.0141 - val_accuracy: 0.9956 - val_loss: 0.0250\n",
            "Epoch 4/5\n",
            "\u001b[1m300/300\u001b[0m \u001b[32m━━━━━━━━━━━━━━━━━━━━\u001b[0m\u001b[37m\u001b[0m \u001b[1m5s\u001b[0m 17ms/step - accuracy: 0.9977 - loss: 0.0140 - val_accuracy: 0.9975 - val_loss: 0.0162\n",
            "Epoch 5/5\n",
            "\u001b[1m300/300\u001b[0m \u001b[32m━━━━━━━━━━━━━━━━━━━━\u001b[0m\u001b[37m\u001b[0m \u001b[1m4s\u001b[0m 14ms/step - accuracy: 0.9982 - loss: 0.0120 - val_accuracy: 0.9962 - val_loss: 0.0215\n",
            "GRU Test Accuracy: 99.68%\n"
          ]
        }
      ]
    },
    {
      "cell_type": "code",
      "source": [
        "def predict_sequence(model, seq_str):\n",
        "    seq_encoded = [char_to_int[c] for c in seq_str]\n",
        "    seq_padded = pad_sequences([seq_encoded], maxlen=max_seq_len, padding='post')\n",
        "    prob = model.predict(seq_padded, verbose=0)[0][0]\n",
        "    return prob, \"Balanced\" if prob >= 0.5 else \"Unbalanced\"\n",
        "\n",
        "test_sequences = [\n",
        "    \"(()(()))\",   # balanced\n",
        "    \"(()())(()\",  # unbalanced\n",
        "    \"((()))\",     # balanced\n",
        "    \"()))(\",      # unbalanced\n",
        "]\n",
        "\n",
        "print(\"\\n=== Sample Predictions ===\")\n",
        "for seq in test_sequences:\n",
        "    print(f\"\\nSequence: {seq}\")\n",
        "    for name, model in models.items():\n",
        "        prob, label = predict_sequence(model, seq)\n",
        "        print(f\"{name}: {label} \")"
      ],
      "metadata": {
        "colab": {
          "base_uri": "https://localhost:8080/"
        },
        "id": "BQiKUFzDy1Yk",
        "outputId": "19bba5eb-2aed-4480-c206-79f3cda75446"
      },
      "execution_count": 16,
      "outputs": [
        {
          "output_type": "stream",
          "name": "stdout",
          "text": [
            "\n",
            "=== Sample Predictions ===\n",
            "\n",
            "Sequence: (()(()))\n",
            "RNN: Balanced \n",
            "LSTM: Unbalanced \n",
            "GRU: Unbalanced \n",
            "\n",
            "Sequence: (()())(()\n",
            "RNN: Unbalanced \n",
            "LSTM: Unbalanced \n",
            "GRU: Unbalanced \n",
            "\n",
            "Sequence: ((()))\n",
            "RNN: Balanced \n",
            "LSTM: Balanced \n",
            "GRU: Balanced \n",
            "\n",
            "Sequence: ()))(\n",
            "RNN: Unbalanced \n",
            "LSTM: Unbalanced \n",
            "GRU: Unbalanced \n"
          ]
        }
      ]
    },
    {
      "cell_type": "code",
      "source": [],
      "metadata": {
        "id": "FVH1XDGQzjV9"
      },
      "execution_count": null,
      "outputs": []
    }
  ]
}